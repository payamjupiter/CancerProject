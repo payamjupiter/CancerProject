{
 "cells": [
  {
   "attachments": {},
   "cell_type": "markdown",
   "metadata": {},
   "source": [
    "## Importing Libs "
   ]
  },
  {
   "cell_type": "code",
   "execution_count": 1,
   "metadata": {},
   "outputs": [],
   "source": [
    "import numpy as np\n",
    "import pandas as pd\n",
    "import pylab as pl\n",
    "import scipy.optimize as opt\n",
    "from sklearn import preprocessing\n",
    "from sklearn.model_selection import train_test_split\n",
    "import matplotlib.pyplot as plt"
   ]
  },
  {
   "cell_type": "code",
   "execution_count": 3,
   "metadata": {},
   "outputs": [
    {
     "name": "stdout",
     "output_type": "stream",
     "text": [
      "        ID  Clump  UnifSize  UnifShape  MargAdh  SingEpiSize BareNuc  \\\n",
      "0  1000025      5         1          1        1            2       1   \n",
      "1  1002945      5         4          4        5            7      10   \n",
      "2  1015425      3         1          1        1            2       2   \n",
      "3  1016277      6         8          8        1            3       4   \n",
      "4  1017023      4         1          1        3            2       1   \n",
      "\n",
      "   BlandChrom  NormNucl  Mit  Class  \n",
      "0           3         1    1      2  \n",
      "1           3         2    1      2  \n",
      "2           3         1    1      2  \n",
      "3           3         7    1      2  \n",
      "4           3         1    1      2  \n"
     ]
    }
   ],
   "source": [
    "DataSet = r\"D:\\Payam\\UT\\Machin Learning\\Files\\cell_samples.csv\"\n",
    "cell_df = pd.read_csv(DataSet)\n",
    "print(cell_df.head())"
   ]
  },
  {
   "cell_type": "code",
   "execution_count": null,
   "metadata": {},
   "outputs": [],
   "source": []
  }
 ],
 "metadata": {
  "kernelspec": {
   "display_name": "Python 3",
   "language": "python",
   "name": "python3"
  },
  "language_info": {
   "codemirror_mode": {
    "name": "ipython",
    "version": 3
   },
   "file_extension": ".py",
   "mimetype": "text/x-python",
   "name": "python",
   "nbconvert_exporter": "python",
   "pygments_lexer": "ipython3",
   "version": "3.11.2"
  },
  "orig_nbformat": 4,
  "vscode": {
   "interpreter": {
    "hash": "1a3bde3afcea6d6f434be3646667817f408ad01ad49ee4a537ef9595316484bc"
   }
  }
 },
 "nbformat": 4,
 "nbformat_minor": 2
}
